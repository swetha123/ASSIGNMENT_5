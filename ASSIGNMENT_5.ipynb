{
 "cells": [
  {
   "cell_type": "markdown",
   "id": "6be95d36",
   "metadata": {},
   "source": [
    "#  ASSIGNMENT 5"
   ]
  },
  {
   "cell_type": "markdown",
   "id": "412819eb",
   "metadata": {},
   "source": [
    "1. What does an empty dictionary's code look like?\n"
   ]
  },
  {
   "cell_type": "code",
   "execution_count": 1,
   "id": "d752111f",
   "metadata": {},
   "outputs": [
    {
     "data": {
      "text/plain": [
       "dict"
      ]
     },
     "execution_count": 1,
     "metadata": {},
     "output_type": "execute_result"
    }
   ],
   "source": [
    "dict1 = {}\n",
    "type(dict1)"
   ]
  },
  {
   "cell_type": "code",
   "execution_count": 2,
   "id": "6220fb94",
   "metadata": {},
   "outputs": [
    {
     "data": {
      "text/plain": [
       "{}"
      ]
     },
     "execution_count": 2,
     "metadata": {},
     "output_type": "execute_result"
    }
   ],
   "source": [
    "dict1"
   ]
  },
  {
   "cell_type": "markdown",
   "id": "a4e4f522",
   "metadata": {},
   "source": [
    "2. What is the value of a dictionary value with the key &#39;foo&#39; and the value 42?"
   ]
  },
  {
   "cell_type": "code",
   "execution_count": 3,
   "id": "04f8984d",
   "metadata": {},
   "outputs": [],
   "source": [
    "dict2 = {\"foo\":42}"
   ]
  },
  {
   "cell_type": "code",
   "execution_count": 4,
   "id": "edb4b663",
   "metadata": {},
   "outputs": [
    {
     "data": {
      "text/plain": [
       "{'foo': 42}"
      ]
     },
     "execution_count": 4,
     "metadata": {},
     "output_type": "execute_result"
    }
   ],
   "source": [
    "dict2"
   ]
  },
  {
   "cell_type": "markdown",
   "id": "8b0291e7",
   "metadata": {},
   "source": [
    "3. What is the most significant distinction between a dictionary and a list?\n",
    "\n",
    "Ans - lists are group of orderely entities that can be accessed through their numerical indexes .\n",
    "      but dictionaries are group of key value pairs. every element in the dictionary can be accessed through their keys."
   ]
  },
  {
   "cell_type": "markdown",
   "id": "7cb8551d",
   "metadata": {},
   "source": [
    "4. What happens if you try to access spam[&#39;foo&#39;] if spam is {&#39;bar&#39;: 100}?"
   ]
  },
  {
   "cell_type": "code",
   "execution_count": 5,
   "id": "b43818cc",
   "metadata": {},
   "outputs": [],
   "source": [
    "spam = {\"bar\":100}"
   ]
  },
  {
   "cell_type": "code",
   "execution_count": 7,
   "id": "b9740f9f",
   "metadata": {},
   "outputs": [
    {
     "ename": "KeyError",
     "evalue": "'foo'",
     "output_type": "error",
     "traceback": [
      "\u001b[1;31m---------------------------------------------------------------------------\u001b[0m",
      "\u001b[1;31mKeyError\u001b[0m                                  Traceback (most recent call last)",
      "Cell \u001b[1;32mIn[7], line 1\u001b[0m\n\u001b[1;32m----> 1\u001b[0m \u001b[43mspam\u001b[49m\u001b[43m[\u001b[49m\u001b[38;5;124;43m\"\u001b[39;49m\u001b[38;5;124;43mfoo\u001b[39;49m\u001b[38;5;124;43m\"\u001b[39;49m\u001b[43m]\u001b[49m\n",
      "\u001b[1;31mKeyError\u001b[0m: 'foo'"
     ]
    }
   ],
   "source": [
    "spam[\"foo\"]\n",
    "# we get the error since there is no key value pair with key \"foo\" in spam dictionary"
   ]
  },
  {
   "cell_type": "markdown",
   "id": "829fb64b",
   "metadata": {},
   "source": [
    "5. If a dictionary is stored in spam, what is the difference between the expressions &#39;cat&#39; in spam and\n",
    "&#39;cat&#39; in spam.keys()?\n",
    "\n",
    "Ans -- it makes no difference . by default the dictionary will be checked if it has cat as a key or not . with spam.key() also it does the same task"
   ]
  },
  {
   "cell_type": "code",
   "execution_count": 8,
   "id": "7266d277",
   "metadata": {},
   "outputs": [],
   "source": [
    "spam = {\"key1\":100,\"cat\":1234}"
   ]
  },
  {
   "cell_type": "code",
   "execution_count": 9,
   "id": "4e0eeb51",
   "metadata": {},
   "outputs": [
    {
     "name": "stdout",
     "output_type": "stream",
     "text": [
      "cat\n"
     ]
    }
   ],
   "source": [
    "if \"cat\" in spam :\n",
    "    print(\"cat\")"
   ]
  },
  {
   "cell_type": "code",
   "execution_count": 11,
   "id": "4350709b",
   "metadata": {},
   "outputs": [
    {
     "name": "stdout",
     "output_type": "stream",
     "text": [
      "cat\n"
     ]
    }
   ],
   "source": [
    "if \"cat\" in spam.keys():\n",
    "    print(\"cat\")"
   ]
  },
  {
   "cell_type": "markdown",
   "id": "daeebad0",
   "metadata": {},
   "source": [
    "6. If a dictionary is stored in spam, what is the difference between the expressions &#39;cat&#39; in spam and\n",
    "&#39;cat&#39; in spam.values()?\n",
    "\n",
    "Ans -- in this case cat in spam will check whether cat element is there as key or not . but in spam.values() method, it will try to check cat element is there in values or not. both are different"
   ]
  },
  {
   "cell_type": "code",
   "execution_count": 12,
   "id": "b8e909db",
   "metadata": {},
   "outputs": [
    {
     "name": "stdout",
     "output_type": "stream",
     "text": [
      "cat\n"
     ]
    }
   ],
   "source": [
    "if \"cat\" in spam :\n",
    "    print(\"cat\")"
   ]
  },
  {
   "cell_type": "code",
   "execution_count": 15,
   "id": "9a20094d",
   "metadata": {},
   "outputs": [
    {
     "name": "stdout",
     "output_type": "stream",
     "text": [
      "false\n"
     ]
    }
   ],
   "source": [
    "if \"cat\" in spam.values():\n",
    "    print(\"true\")\n",
    "else:\n",
    "    print('false')"
   ]
  },
  {
   "cell_type": "markdown",
   "id": "fef2b5b3",
   "metadata": {},
   "source": [
    "7. What is a shortcut for the following code?\n"
   ]
  },
  {
   "cell_type": "code",
   "execution_count": 16,
   "id": "d74d50c0",
   "metadata": {},
   "outputs": [
    {
     "data": {
      "text/plain": [
       "'black'"
      ]
     },
     "execution_count": 16,
     "metadata": {},
     "output_type": "execute_result"
    }
   ],
   "source": [
    "# SHORT CUT FOR if color not in spam:\n",
    "#                  spam['color'] = \"black\"\n",
    "\n",
    "spam.setdefault(\"color\",\"black\")\n"
   ]
  },
  {
   "cell_type": "markdown",
   "id": "d087576c",
   "metadata": {},
   "source": [
    "8. How do you &quot;pretty print&quot; dictionary values using which module and function?\n",
    "\n",
    "Ans - The module used is pprint.The functions are pprint.pprint() and pprint.pformat()."
   ]
  },
  {
   "cell_type": "code",
   "execution_count": 20,
   "id": "890f1958",
   "metadata": {},
   "outputs": [
    {
     "name": "stdout",
     "output_type": "stream",
     "text": [
      "{'k1': 123, 'k2': 990, 'k3': 34545, 'k4': 'eferg'}\n",
      "dict_values([123, 990, 34545, 'eferg'])\n"
     ]
    }
   ],
   "source": [
    "import pprint\n",
    "\n",
    "d1 = {\"k1\":123,\"k2\":990,\"k3\":34545,\"k4\":\"eferg\"}\n",
    "pprint.pprint(d1)\n",
    "pprint.pprint(d1.values())"
   ]
  },
  {
   "cell_type": "code",
   "execution_count": 21,
   "id": "adb4716e",
   "metadata": {},
   "outputs": [
    {
     "data": {
      "text/plain": [
       "\"dict_values([123, 990, 34545, 'eferg'])\""
      ]
     },
     "execution_count": 21,
     "metadata": {},
     "output_type": "execute_result"
    }
   ],
   "source": [
    "pprint.pformat(d1)\n",
    "pprint.pformat(d1.values())"
   ]
  },
  {
   "cell_type": "code",
   "execution_count": null,
   "id": "29d5aecc",
   "metadata": {},
   "outputs": [],
   "source": []
  }
 ],
 "metadata": {
  "kernelspec": {
   "display_name": "Python 3 (ipykernel)",
   "language": "python",
   "name": "python3"
  },
  "language_info": {
   "codemirror_mode": {
    "name": "ipython",
    "version": 3
   },
   "file_extension": ".py",
   "mimetype": "text/x-python",
   "name": "python",
   "nbconvert_exporter": "python",
   "pygments_lexer": "ipython3",
   "version": "3.10.9"
  }
 },
 "nbformat": 4,
 "nbformat_minor": 5
}
